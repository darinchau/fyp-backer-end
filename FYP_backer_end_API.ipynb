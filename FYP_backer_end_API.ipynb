{
  "cells": [
    {
      "cell_type": "markdown",
      "metadata": {
        "id": "roryXlrKXt8N"
      },
      "source": [
        "# Installation"
      ]
    },
    {
      "cell_type": "code",
      "execution_count": null,
      "metadata": {
        "colab": {
          "base_uri": "https://localhost:8080/",
          "height": 1000
        },
        "id": "TW87YKoOSH84",
        "outputId": "320f22f9-779b-4375-8b4e-75a0b014a834"
      },
      "outputs": [],
      "source": [
        "# import shutil\n",
        "# shutil.move('./Beat-Transformer/code/DilatedTransformer.py', './DilatedTransformer.py')\n",
        "# shutil.move('./Beat-Transformer/code/DilatedTransformerLayer.py', './DilatedTransformerLayer.py')"
      ]
    },
    {
      "cell_type": "markdown",
      "metadata": {
        "id": "r9-6Y9UdX2In"
      },
      "source": [
        "# Load models"
      ]
    },
    {
      "cell_type": "code",
      "execution_count": null,
      "metadata": {
        "id": "25mWHc5DAn3E"
      },
      "outputs": [],
      "source": [
        "PARAM_PATH = {\n",
        "    0: \"./Beat-Transformer/checkpoint/fold_0_trf_param.pt\",\n",
        "    1: \"./Beat-Transformer/checkpoint/fold_1_trf_param.pt\",\n",
        "    2: \"./Beat-Transformer/checkpoint/fold_2_trf_param.pt\",\n",
        "    3: \"./Beat-Transformer/checkpoint/fold_3_trf_param.pt\",\n",
        "    4: \"./Beat-Transformer/checkpoint/fold_4_trf_param.pt\",\n",
        "    5: \"./Beat-Transformer/checkpoint/fold_5_trf_param.pt\",\n",
        "    6: \"./Beat-Transformer/checkpoint/fold_6_trf_param.pt\",\n",
        "    7: \"./Beat-Transformer/checkpoint/fold_7_trf_param.pt\"\n",
        "}"
      ]
    },
    {
      "cell_type": "code",
      "execution_count": null,
      "metadata": {
        "id": "hQI1429aJ4Yi"
      },
      "outputs": [],
      "source": [
        "import os\n",
        "import numpy as np\n",
        "os.environ['CUDA_VISIBLE_DEVICES'] = '-1' # My GPU is not good enough to run this model\n",
        "\n",
        "import tensorflow as tf\n",
        "from librosa.core import stft\n",
        "from scipy.signal.windows import hann\n",
        "from contextlib import contextmanager\n",
        "import random\n",
        "import warnings\n",
        "import librosa\n",
        "import torch\n",
        "from spleeter.audio.adapter import AudioAdapter\n",
        "from spleeter.separator import Separator\n",
        "from DilatedTransformer import Demixed_DilatedTransformerModel\n",
        "from madmom.features.beats import DBNBeatTrackingProcessor\n",
        "from madmom.features.downbeats import DBNDownBeatTrackingProcessor\n",
        "\n",
        "# Audio separator\n",
        "separator = Separator('spleeter:5stems')\n",
        "\n",
        "# The audio model\n",
        "model = Demixed_DilatedTransformerModel(attn_len=5, instr=5, ntoken=2, dmodel=256, nhead=8, d_hid=1024, nlayers=9, norm_first=True)\n",
        "\n",
        "#Initialize DBN Beat Tracker to locate beats from beat activation\n",
        "beat_tracker = DBNBeatTrackingProcessor(min_bpm=55.0, max_bpm=215.0, fps=44100/1024, transition_lambda=100, observation_lambda=6, num_tempi=None, threshold=0.2)\n",
        "\n",
        "#Initialize DBN Downbeat Tracker to locate downbeats from downbeat activation\n",
        "downbeat_tracker = DBNDownBeatTrackingProcessor(beats_per_bar=[3, 4], min_bpm=55.0, max_bpm=215.0, fps=44100/1024, transition_lambda=100, observation_lambda=6, num_tempi=None, threshold=0.2)\n",
        "\n",
        "@contextmanager\n",
        "def get_temp_file(extension: str):\n",
        "    def get_random_string():\n",
        "        s = \"temp\"\n",
        "        for _ in range(6):\n",
        "            s += \"qwertyuiopasdfghjklzxcvbnm\"[random.randint(0, 25)]\n",
        "        return s\n",
        "    def get_unique_filename(name):\n",
        "        # Check if the file already exists\n",
        "        if not os.path.isfile(f\"{name}.{extension}\"):\n",
        "            return f\"{name}.{extension}\"\n",
        "\n",
        "        # If the file already exists, add a number to the end of the filename\n",
        "        i = 1\n",
        "        while True:\n",
        "            new_name = f\"{name} ({i}).{extension}\"\n",
        "            if not os.path.isfile(new_name):\n",
        "                return new_name\n",
        "            i += 1\n",
        "    fn = get_unique_filename(get_random_string())\n",
        "    try:\n",
        "        with open(fn, 'w+b'):\n",
        "            pass\n",
        "        yield fn\n",
        "    finally:\n",
        "        if os.path.isfile(fn):\n",
        "            os.remove(fn)\n",
        "\n",
        "\n",
        "# Performs STFT with the deezer nutzer separator\n",
        "def separator_stft(separator, data: np.ndarray):\n",
        "    data = np.asfortranarray(data)\n",
        "    N = separator._params[\"frame_length\"]\n",
        "    H = separator._params[\"frame_step\"]\n",
        "    win = hann(N, sym=False)\n",
        "    win_len_arg = {\"n_fft\": N}\n",
        "    n_channels = data.shape[-1]\n",
        "    out = []\n",
        "    for c in range(n_channels):\n",
        "        d = np.concatenate((np.zeros((N,)), data[:, c], np.zeros((N,))))\n",
        "        s = stft(d, hop_length=H, window=win, center=False, n_fft = N)\n",
        "        s = np.expand_dims(s.T, 2)\n",
        "        out.append(s)\n",
        "    if len(out) == 1:\n",
        "        return out[0]\n",
        "    return np.concatenate(out, axis=2)\n",
        "\n",
        "def split(audio_dir: str):\n",
        "    audio = AudioAdapter.default()\n",
        "    waveform, _ = audio.load(audio_dir, sample_rate=44100)\n",
        "    mel_f = librosa.filters.mel(sr=44100, n_fft=4096, n_mels=128, fmin=30, fmax=11000).T\n",
        "    x = separator.separate(waveform)\n",
        "    x = np.stack([np.dot(np.abs(np.mean(separator_stft(separator, x[key]), axis=-1))**2, mel_f) for key in x])\n",
        "    x = np.transpose(x, (0, 2, 1))\n",
        "    x = np.stack([librosa.power_to_db(x[i], ref=np.max) for i in range(len(x))])\n",
        "    x = np.transpose(x, (0, 2, 1))\n",
        "    return x\n",
        "\n",
        "def predict_beats(x, fold = 4):\n",
        "    model.load_state_dict(torch.load(PARAM_PATH[fold], map_location=torch.device('cpu'))['state_dict'])\n",
        "\n",
        "    device = torch.device('cuda') if torch.cuda.is_available() else torch.device('cpu')\n",
        "    model.to(device)\n",
        "    model.eval()\n",
        "\n",
        "    with torch.no_grad():\n",
        "        model_input = torch.from_numpy(x).unsqueeze(0).float().to(device)\n",
        "        activation, _ = model(model_input)\n",
        "\n",
        "    beat_activation = torch.sigmoid(activation[0, :, 0]).detach().cpu().numpy()\n",
        "    downbeat_activation = torch.sigmoid(activation[0, :, 1]).detach().cpu().numpy()\n",
        "    dbn_beat_pred = beat_tracker(beat_activation)\n",
        "\n",
        "    combined_act = np.concatenate((np.maximum(beat_activation - downbeat_activation,\n",
        "                                            np.zeros(beat_activation.shape)\n",
        "                                            )[:, np.newaxis],\n",
        "                                downbeat_activation[:, np.newaxis]\n",
        "                                ), axis=-1)   #(T, 2)\n",
        "    dbn_downbeat_pred = downbeat_tracker(combined_act)\n",
        "    dbn_downbeat_pred = dbn_downbeat_pred[dbn_downbeat_pred[:, 1] == 1][:, 0]\n",
        "    return dbn_downbeat_pred, dbn_beat_pred\n",
        "\n",
        "def beats_prediction(b: bytes):\n",
        "    with get_temp_file(\"wav\") as temp_file:\n",
        "        with open(temp_file, 'w+b') as temp:\n",
        "            temp.write(b)\n",
        "        x = split(temp_file)\n",
        "    dbn_downbeat_pred, dbn_beat_pred = predict_beats(x)\n",
        "    downbeat_frames = np.array(dbn_downbeat_pred * 44100, dtype = np.int32).tolist()\n",
        "    beat_frames = np.array(dbn_beat_pred * 44100, dtype = np.int32).tolist()\n",
        "    data = {\n",
        "        \"downbeat_frames\": downbeat_frames,\n",
        "        \"beat_frames\": beat_frames\n",
        "    }\n",
        "    return data"
      ]
    },
    {
      "cell_type": "markdown",
      "metadata": {
        "id": "6izVag8PX2_v"
      },
      "source": [
        "# Open API"
      ]
    },
    {
      "cell_type": "code",
      "execution_count": null,
      "metadata": {
        "id": "e7kMjk3EYF58"
      },
      "outputs": [],
      "source": [
        "from fastapi import FastAPI, HTTPException\n",
        "from fastapi import Request\n",
        "from fastapi.middleware.cors import CORSMiddleware\n",
        "\n",
        "app = FastAPI()\n",
        "\n",
        "app.add_middleware(\n",
        "    CORSMiddleware,\n",
        "    allow_origins=['*'],\n",
        "    allow_credentials=True,\n",
        "    allow_methods=['*'],\n",
        "    allow_headers=['*'],\n",
        ")\n",
        "\n",
        "@app.post('/beat')\n",
        "async def root(r: Request):\n",
        "    audio_data = await r.body()\n",
        "    data = beats_prediction(audio_data)\n",
        "    return data\n",
        "\n",
        "@app.get('/alive')\n",
        "async def alive():\n",
        "    return {\"alive\": \"true\"}"
      ]
    },
    {
      "cell_type": "code",
      "execution_count": 5,
      "metadata": {
        "colab": {
          "base_uri": "https://localhost:8080/"
        },
        "id": "pUeOpF-KYp_I",
        "outputId": "da253474-5d99-484f-f2cd-be054d7bd098"
      },
      "outputs": [],
      "source": [
        "import nest_asyncio\n",
        "import uvicorn\n",
        "\n",
        "nest_asyncio.apply()\n",
        "uvicorn.run(app, port=8123)"
      ]
    }
  ],
  "metadata": {
    "accelerator": "GPU",
    "colab": {
      "collapsed_sections": [
        "roryXlrKXt8N"
      ],
      "provenance": []
    },
    "kernelspec": {
      "display_name": "Python 3",
      "name": "python3"
    },
    "language_info": {
      "codemirror_mode": {
        "name": "ipython",
        "version": 3
      },
      "file_extension": ".py",
      "mimetype": "text/x-python",
      "name": "python",
      "nbconvert_exporter": "python",
      "pygments_lexer": "ipython3",
      "version": "3.10.13"
    }
  },
  "nbformat": 4,
  "nbformat_minor": 0
}

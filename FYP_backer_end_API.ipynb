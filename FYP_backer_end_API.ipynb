{
  "cells": [
    {
      "cell_type": "markdown",
      "metadata": {
        "id": "roryXlrKXt8N"
      },
      "source": [
        "# Installation"
      ]
    },
    {
      "cell_type": "code",
      "execution_count": null,
      "metadata": {
        "colab": {
          "base_uri": "https://localhost:8080/",
          "height": 1000
        },
        "id": "TW87YKoOSH84",
        "outputId": "320f22f9-779b-4375-8b4e-75a0b014a834"
      },
      "outputs": [],
      "source": [
        "# Run these lines before running the code\n",
        "# import shutil\n",
        "# shutil.move('./Beat-Transformer/code/DilatedTransformer.py', './DilatedTransformer.py')\n",
        "# shutil.move('./Beat-Transformer/code/DilatedTransformerLayer.py', './DilatedTransformerLayer.py')"
      ]
    },
    {
      "cell_type": "code",
      "execution_count": null,
      "metadata": {
        "colab": {
          "base_uri": "https://localhost:8080/"
        },
        "id": "pUeOpF-KYp_I",
        "outputId": "da253474-5d99-484f-f2cd-be054d7bd098"
      },
      "outputs": [],
      "source": [
        "import nest_asyncio\n",
        "import uvicorn\n",
        "from app import create_app\n",
        "\n",
        "nest_asyncio.apply()\n",
        "uvicorn.run(create_app(), port=8123)"
      ]
    }
  ],
  "metadata": {
    "accelerator": "GPU",
    "colab": {
      "collapsed_sections": [
        "roryXlrKXt8N"
      ],
      "provenance": []
    },
    "kernelspec": {
      "display_name": "Python 3",
      "name": "python3"
    },
    "language_info": {
      "codemirror_mode": {
        "name": "ipython",
        "version": 3
      },
      "file_extension": ".py",
      "mimetype": "text/x-python",
      "name": "python",
      "nbconvert_exporter": "python",
      "pygments_lexer": "ipython3",
      "version": "3.10.13"
    }
  },
  "nbformat": 4,
  "nbformat_minor": 0
}

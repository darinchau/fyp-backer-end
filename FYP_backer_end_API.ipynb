{
  "cells": [
    {
      "cell_type": "markdown",
      "metadata": {
        "id": "roryXlrKXt8N"
      },
      "source": [
        "# Installation"
      ]
    },
    {
      "cell_type": "code",
      "execution_count": null,
      "metadata": {
        "colab": {
          "base_uri": "https://localhost:8080/",
          "height": 1000
        },
        "id": "TW87YKoOSH84",
        "outputId": "320f22f9-779b-4375-8b4e-75a0b014a834"
      },
      "outputs": [],
      "source": [
        "# import shutil\n",
        "# shutil.move('./Beat-Transformer/code/DilatedTransformer.py', './DilatedTransformer.py')\n",
        "# shutil.move('./Beat-Transformer/code/DilatedTransformerLayer.py', './DilatedTransformerLayer.py')"
      ]
    },
    {
      "cell_type": "markdown",
      "metadata": {
        "id": "r9-6Y9UdX2In"
      },
      "source": [
        "# Load models"
      ]
    },
    {
      "cell_type": "code",
      "execution_count": null,
      "metadata": {
        "id": "hQI1429aJ4Yi"
      },
      "outputs": [],
      "source": [
        "import os\n",
        "import numpy as np\n",
        "os.environ['CUDA_VISIBLE_DEVICES'] = '-1' # My GPU is not good enough to run this model\n",
        "\n",
        "import random\n",
        "from contextlib import contextmanager\n",
        "from app import split, predict_beats\n",
        "\n",
        "@contextmanager\n",
        "def get_temp_file(extension: str):\n",
        "    def get_random_string():\n",
        "        s = \"temp\"\n",
        "        for _ in range(6):\n",
        "            s += \"qwertyuiopasdfghjklzxcvbnm\"[random.randint(0, 25)]\n",
        "        return s\n",
        "    def get_unique_filename(name):\n",
        "        # Check if the file already exists\n",
        "        if not os.path.isfile(f\"{name}.{extension}\"):\n",
        "            return f\"{name}.{extension}\"\n",
        "\n",
        "        # If the file already exists, add a number to the end of the filename\n",
        "        i = 1\n",
        "        while True:\n",
        "            new_name = f\"{name} ({i}).{extension}\"\n",
        "            if not os.path.isfile(new_name):\n",
        "                return new_name\n",
        "            i += 1\n",
        "    fn = get_unique_filename(get_random_string())\n",
        "    try:\n",
        "        with open(fn, 'w+b'):\n",
        "            pass\n",
        "        yield fn\n",
        "    finally:\n",
        "        if os.path.isfile(fn):\n",
        "            os.remove(fn)\n",
        "\n",
        "\n",
        "# The main function\n",
        "def beats_prediction(b: bytes):\n",
        "    with get_temp_file(\"wav\") as temp_file:\n",
        "        with open(temp_file, 'w+b') as temp:\n",
        "            temp.write(b)\n",
        "        x = split(temp_file)\n",
        "    dbn_downbeat_pred, dbn_beat_pred = predict_beats(x)\n",
        "    downbeat_frames = np.array(dbn_downbeat_pred * 44100, dtype = np.int32).tolist()\n",
        "    beat_frames = np.array(dbn_beat_pred * 44100, dtype = np.int32).tolist()\n",
        "    data = {\n",
        "        \"downbeat_frames\": downbeat_frames,\n",
        "        \"beat_frames\": beat_frames\n",
        "    }\n",
        "    return data"
      ]
    },
    {
      "cell_type": "markdown",
      "metadata": {
        "id": "6izVag8PX2_v"
      },
      "source": [
        "# Open API"
      ]
    },
    {
      "cell_type": "code",
      "execution_count": null,
      "metadata": {
        "id": "e7kMjk3EYF58"
      },
      "outputs": [],
      "source": [
        "from fastapi import FastAPI, HTTPException\n",
        "from fastapi import Request\n",
        "from fastapi.middleware.cors import CORSMiddleware\n",
        "\n",
        "app = FastAPI()\n",
        "\n",
        "app.add_middleware(\n",
        "    CORSMiddleware,\n",
        "    allow_origins=['*'],\n",
        "    allow_credentials=True,\n",
        "    allow_methods=['*'],\n",
        "    allow_headers=['*'],\n",
        ")\n",
        "\n",
        "@app.post('/beat')\n",
        "async def root(r: Request):\n",
        "    audio_data = await r.body()\n",
        "    data = beats_prediction(audio_data)\n",
        "    return data\n",
        "\n",
        "@app.get('/alive')\n",
        "async def alive():\n",
        "    return {\"alive\": \"true\"}"
      ]
    },
    {
      "cell_type": "code",
      "execution_count": null,
      "metadata": {
        "colab": {
          "base_uri": "https://localhost:8080/"
        },
        "id": "pUeOpF-KYp_I",
        "outputId": "da253474-5d99-484f-f2cd-be054d7bd098"
      },
      "outputs": [],
      "source": [
        "import nest_asyncio\n",
        "import uvicorn\n",
        "\n",
        "nest_asyncio.apply()\n",
        "uvicorn.run(app, port=8123)"
      ]
    }
  ],
  "metadata": {
    "accelerator": "GPU",
    "colab": {
      "collapsed_sections": [
        "roryXlrKXt8N"
      ],
      "provenance": []
    },
    "kernelspec": {
      "display_name": "Python 3",
      "name": "python3"
    },
    "language_info": {
      "codemirror_mode": {
        "name": "ipython",
        "version": 3
      },
      "file_extension": ".py",
      "mimetype": "text/x-python",
      "name": "python",
      "nbconvert_exporter": "python",
      "pygments_lexer": "ipython3",
      "version": "3.10.13"
    }
  },
  "nbformat": 4,
  "nbformat_minor": 0
}
